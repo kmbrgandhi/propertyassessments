{
 "cells": [
  {
   "cell_type": "code",
   "execution_count": 1,
   "metadata": {},
   "outputs": [],
   "source": [
    "import numpy as np\n",
    "import pandas as pd"
   ]
  },
  {
   "cell_type": "code",
   "execution_count": 15,
   "metadata": {},
   "outputs": [],
   "source": [
    "headings = [\"Year\", \"Postal\", \"state\", \"county\", \"registry\", \"race\", \"hispanic\", \"sex\", \"age\", \"population\"]\n",
    "seer = pd.read_fwf(\"~/Documents/Housing/Property_Assessments/propertyassessments/raw/ma.1969_2018.19ages.txt\", \\\n",
    "                   header=None, colspecs=[(0, 4), (4, 6), (6, 8), (8, 11), (11, 13), (13, 14), (14, 15), (15, 16), \\\n",
    "                                          (16, 18), (18, 26)], names = headings)"
   ]
  },
  {
   "cell_type": "code",
   "execution_count": 18,
   "metadata": {},
   "outputs": [],
   "source": [
    "seer.to_csv(\"~/Documents/Housing/Property_Assessments/propertyassessments/cleaned/ma.1969_2018.19ages.csv\")"
   ]
  }
 ],
 "metadata": {
  "kernelspec": {
   "display_name": "propertyassessment",
   "language": "python",
   "name": "propertyassessment"
  },
  "language_info": {
   "codemirror_mode": {
    "name": "ipython",
    "version": 3
   },
   "file_extension": ".py",
   "mimetype": "text/x-python",
   "name": "python",
   "nbconvert_exporter": "python",
   "pygments_lexer": "ipython3",
   "version": "3.7.6"
  }
 },
 "nbformat": 4,
 "nbformat_minor": 4
}

{
 "cells": [
  {
   "cell_type": "code",
   "execution_count": 1,
   "metadata": {},
   "outputs": [
    {
     "data": {
      "text/plain": [
       "0"
      ]
     },
     "execution_count": 1,
     "metadata": {},
     "output_type": "execute_result"
    }
   ],
   "source": [
    "import descartes, matplotlib.pyplot as plt \n",
    "import fiona\n",
    "import geopandas as gpd\n",
    "import pandas as pd\n",
    "import censusdata\n",
    "import gc\n",
    "gc.collect()"
   ]
  },
  {
   "cell_type": "code",
   "execution_count": 2,
   "metadata": {},
   "outputs": [],
   "source": [
    "fp = \"/Users/kmbrgandhi/Documents/Housing/Property_Assessments/propertyassessments/ACS2018/tl_2018_25_bg/tl_2018_25_bg.shp\""
   ]
  },
  {
   "cell_type": "code",
   "execution_count": 3,
   "metadata": {},
   "outputs": [],
   "source": [
    "acs2018sf = gpd.read_file(fp)"
   ]
  },
  {
   "cell_type": "code",
   "execution_count": 4,
   "metadata": {},
   "outputs": [
    {
     "name": "stdout",
     "output_type": "stream",
     "text": [
      "Variable     | Table                          | Label                                                    | Type \n",
      "-------------------------------------------------------------------------------------------------------------------\n",
      "B15003_001E  | EDUCATIONAL ATTAINMENT FOR THE | !! Estimate Total                                        | int  \n",
      "B15003_002E  | EDUCATIONAL ATTAINMENT FOR THE | !! !! Estimate Total No schooling completed              | int  \n",
      "B15003_003E  | EDUCATIONAL ATTAINMENT FOR THE | !! !! Estimate Total Nursery school                      | int  \n",
      "B15003_004E  | EDUCATIONAL ATTAINMENT FOR THE | !! !! Estimate Total Kindergarten                        | int  \n",
      "B15003_005E  | EDUCATIONAL ATTAINMENT FOR THE | !! !! Estimate Total 1st grade                           | int  \n",
      "B15003_006E  | EDUCATIONAL ATTAINMENT FOR THE | !! !! Estimate Total 2nd grade                           | int  \n",
      "B15003_007E  | EDUCATIONAL ATTAINMENT FOR THE | !! !! Estimate Total 3rd grade                           | int  \n",
      "B15003_008E  | EDUCATIONAL ATTAINMENT FOR THE | !! !! Estimate Total 4th grade                           | int  \n",
      "B15003_009E  | EDUCATIONAL ATTAINMENT FOR THE | !! !! Estimate Total 5th grade                           | int  \n",
      "B15003_010E  | EDUCATIONAL ATTAINMENT FOR THE | !! !! Estimate Total 6th grade                           | int  \n",
      "B15003_011E  | EDUCATIONAL ATTAINMENT FOR THE | !! !! Estimate Total 7th grade                           | int  \n",
      "B15003_012E  | EDUCATIONAL ATTAINMENT FOR THE | !! !! Estimate Total 8th grade                           | int  \n",
      "B15003_013E  | EDUCATIONAL ATTAINMENT FOR THE | !! !! Estimate Total 9th grade                           | int  \n",
      "B15003_014E  | EDUCATIONAL ATTAINMENT FOR THE | !! !! Estimate Total 10th grade                          | int  \n",
      "B15003_015E  | EDUCATIONAL ATTAINMENT FOR THE | !! !! Estimate Total 11th grade                          | int  \n",
      "B15003_016E  | EDUCATIONAL ATTAINMENT FOR THE | !! !! Estimate Total 12th grade, no diploma              | int  \n",
      "B15003_017E  | EDUCATIONAL ATTAINMENT FOR THE | !! !! Estimate Total Regular high school diploma         | int  \n",
      "B15003_018E  | EDUCATIONAL ATTAINMENT FOR THE | !! !! Estimate Total GED or alternative credential       | int  \n",
      "B15003_019E  | EDUCATIONAL ATTAINMENT FOR THE | !! !! Estimate Total Some college, less than 1 year      | int  \n",
      "B15003_020E  | EDUCATIONAL ATTAINMENT FOR THE | !! !! Estimate Total Some college, 1 or more years, no d | int  \n",
      "B15003_021E  | EDUCATIONAL ATTAINMENT FOR THE | !! !! Estimate Total Associate's degree                  | int  \n",
      "B15003_022E  | EDUCATIONAL ATTAINMENT FOR THE | !! !! Estimate Total Bachelor's degree                   | int  \n",
      "B15003_023E  | EDUCATIONAL ATTAINMENT FOR THE | !! !! Estimate Total Master's degree                     | int  \n",
      "B15003_024E  | EDUCATIONAL ATTAINMENT FOR THE | !! !! Estimate Total Professional school degree          | int  \n",
      "B15003_025E  | EDUCATIONAL ATTAINMENT FOR THE | !! !! Estimate Total Doctorate degree                    | int  \n",
      "-------------------------------------------------------------------------------------------------------------------\n"
     ]
    }
   ],
   "source": [
    "censusdata.printtable(censusdata.censustable('acs5', 2018, 'B15003'))"
   ]
  },
  {
   "cell_type": "code",
   "execution_count": 5,
   "metadata": {},
   "outputs": [
    {
     "data": {
      "text/plain": [
       "{'Suffolk County, Massachusetts': censusgeo((('state', '25'), ('county', '025'))),\n",
       " 'Barnstable County, Massachusetts': censusgeo((('state', '25'), ('county', '001'))),\n",
       " 'Dukes County, Massachusetts': censusgeo((('state', '25'), ('county', '007'))),\n",
       " 'Middlesex County, Massachusetts': censusgeo((('state', '25'), ('county', '017'))),\n",
       " 'Berkshire County, Massachusetts': censusgeo((('state', '25'), ('county', '003'))),\n",
       " 'Essex County, Massachusetts': censusgeo((('state', '25'), ('county', '009'))),\n",
       " 'Bristol County, Massachusetts': censusgeo((('state', '25'), ('county', '005'))),\n",
       " 'Hampden County, Massachusetts': censusgeo((('state', '25'), ('county', '013'))),\n",
       " 'Plymouth County, Massachusetts': censusgeo((('state', '25'), ('county', '023'))),\n",
       " 'Franklin County, Massachusetts': censusgeo((('state', '25'), ('county', '011'))),\n",
       " 'Norfolk County, Massachusetts': censusgeo((('state', '25'), ('county', '021'))),\n",
       " 'Hampshire County, Massachusetts': censusgeo((('state', '25'), ('county', '015'))),\n",
       " 'Nantucket County, Massachusetts': censusgeo((('state', '25'), ('county', '019'))),\n",
       " 'Worcester County, Massachusetts': censusgeo((('state', '25'), ('county', '027')))}"
      ]
     },
     "execution_count": 5,
     "metadata": {},
     "output_type": "execute_result"
    }
   ],
   "source": [
    "counties = censusdata.geographies(censusdata.censusgeo([('state', '25'), ('county', '*')]), 'acs5', 2018)\n",
    "counties"
   ]
  },
  {
   "cell_type": "code",
   "execution_count": 6,
   "metadata": {},
   "outputs": [
    {
     "name": "stdout",
     "output_type": "stream",
     "text": [
      "Suffolk County\n",
      "Barnstable County\n",
      "Dukes County\n",
      "Middlesex County\n",
      "Berkshire County\n",
      "Essex County\n",
      "Bristol County\n",
      "Hampden County\n",
      "Plymouth County\n",
      "Franklin County\n",
      "Norfolk County\n",
      "Hampshire County\n",
      "Nantucket County\n",
      "Worcester County\n",
      "<class 'pandas.core.frame.DataFrame'>\n"
     ]
    }
   ],
   "source": [
    "list_of_counties = []\n",
    "county_data = {}\n",
    "for county in counties:\n",
    "    county_name = county[:-15]\n",
    "    print(county_name)\n",
    "    county_val = counties[county]\n",
    "    county_number = county_val.geo[1][1]\n",
    "    county_data[county_name] = censusdata.download('acs5', 2018,\n",
    "                             censusdata.censusgeo([('state', '25'), ('county', county_number), ('block group', '*')]),\n",
    "                             ['B02001_001E', 'B02001_003E', \"B03001_001E\", \"B03001_003E\", \"B19013_001E\", \"B25118_002E\", \"B25118_014E\", \\\n",
    "                             'B15003_002E', 'B15003_003E', 'B15003_004E', 'B15003_005E', 'B15003_006E', 'B15003_007E', \\\n",
    "                             'B15003_008E', 'B15003_009E', 'B15003_010E', 'B15003_011E', 'B15003_012E', 'B15003_013E', \\\n",
    "                             'B15003_014E', 'B15003_015E', 'B15003_016E', 'B15003_017E','B15003_018E', 'B15003_019E',\\\n",
    "                              'B15003_020E', 'B15003_021E', 'B15003_022E', 'B15003_023E','B15003_024E', 'B15003_025E'])\n",
    "    # grabbing the Massachusetts data we want for each county\n",
    "print(type(county_data[\"Suffolk County\"]))\n",
    "#B02001 is the race table: pulling black and total to form ratio\n",
    "#B03001 is the hispanic table: pulling hispanic and total to form ratio\n",
    "#B19013 is overall median income, Note that I could get black and white specific median incomes from B19013A and B\n",
    "#B25118 is # of owner and renter occupied\n",
    "#B15003 is all the education variables, going to be aggreagted later\n"
   ]
  },
  {
   "cell_type": "code",
   "execution_count": 7,
   "metadata": {},
   "outputs": [
    {
     "data": {
      "text/plain": [
       "['B02001_001E',\n",
       " 'B02001_003E',\n",
       " 'B03001_001E',\n",
       " 'B03001_003E',\n",
       " 'B19013_001E',\n",
       " 'B25118_002E',\n",
       " 'B25118_014E',\n",
       " 'B15003_002E',\n",
       " 'B15003_003E',\n",
       " 'B15003_004E',\n",
       " 'B15003_005E',\n",
       " 'B15003_006E',\n",
       " 'B15003_007E',\n",
       " 'B15003_008E',\n",
       " 'B15003_009E',\n",
       " 'B15003_010E',\n",
       " 'B15003_011E',\n",
       " 'B15003_012E',\n",
       " 'B15003_013E',\n",
       " 'B15003_014E',\n",
       " 'B15003_015E',\n",
       " 'B15003_016E',\n",
       " 'B15003_017E',\n",
       " 'B15003_018E',\n",
       " 'B15003_019E',\n",
       " 'B15003_020E',\n",
       " 'B15003_021E',\n",
       " 'B15003_022E',\n",
       " 'B15003_023E',\n",
       " 'B15003_024E',\n",
       " 'B15003_025E',\n",
       " 'county']"
      ]
     },
     "execution_count": 7,
     "metadata": {},
     "output_type": "execute_result"
    }
   ],
   "source": [
    "lst_of_data = []\n",
    "total = 0\n",
    "for county in county_data:\n",
    "    county_data[county][\"county\"] = county\n",
    "    lst_of_data.append(county_data[county])\n",
    "    total+=len(county_data[county])\n",
    "\n",
    "final_ma = pd.concat(lst_of_data, axis=0)\n",
    "final_ma.columns.values.tolist()"
   ]
  },
  {
   "cell_type": "code",
   "execution_count": 8,
   "metadata": {},
   "outputs": [],
   "source": [
    "# clean educational attainment\n",
    "final_ma['hs'] = final_ma[['B15003_002E', 'B15003_003E', 'B15003_004E', 'B15003_005E', 'B15003_006E', 'B15003_007E', \\\n",
    "                             'B15003_008E', 'B15003_009E', 'B15003_010E', 'B15003_011E', 'B15003_012E', 'B15003_013E', \\\n",
    "                             'B15003_014E', 'B15003_015E', 'B15003_016E', 'B15003_017E', 'B15003_018E']].sum(axis=1)\n",
    "final_ma['somecollege'] = final_ma[['B15003_019E', 'B15003_020E', 'B15003_021E']].sum(axis=1)\n",
    "final_ma['bach'] = final_ma[['B15003_022E', 'B15003_023E', 'B15003_024E', 'B15003_025E']].sum(axis=1)"
   ]
  },
  {
   "cell_type": "code",
   "execution_count": 9,
   "metadata": {},
   "outputs": [
    {
     "data": {
      "text/plain": [
       "['total',\n",
       " 'black',\n",
       " 'total',\n",
       " 'hispanic',\n",
       " 'median income',\n",
       " 'owner occupied',\n",
       " 'renter occupied',\n",
       " 'county',\n",
       " 'hs',\n",
       " 'somecollege',\n",
       " 'bach']"
      ]
     },
     "execution_count": 9,
     "metadata": {},
     "output_type": "execute_result"
    }
   ],
   "source": [
    "# drop and rename\n",
    "final_ma = final_ma.drop(columns=['B15003_002E', 'B15003_003E', 'B15003_004E', 'B15003_005E', 'B15003_006E', 'B15003_007E', \\\n",
    "                             'B15003_008E', 'B15003_009E', 'B15003_010E', 'B15003_011E', 'B15003_012E', 'B15003_013E', \\\n",
    "                             'B15003_014E', 'B15003_015E', 'B15003_016E', 'B15003_017E','B15003_018E', 'B15003_019E',\\\n",
    "                              'B15003_020E', 'B15003_021E', 'B15003_022E', 'B15003_023E','B15003_024E', 'B15003_025E'])\n",
    "final_ma = final_ma.rename(columns={'B02001_001E': \"total\",'B02001_003E': \"black\", 'B03001_001E': \"total\", 'B03001_003E': \"hispanic\", 'B19013_001E': \"median income\",\n",
    " 'B25118_002E': \"owner occupied\",'B25118_014E': \"renter occupied\"})\n",
    "final_ma.columns.values.tolist()"
   ]
  },
  {
   "cell_type": "code",
   "execution_count": 10,
   "metadata": {},
   "outputs": [],
   "source": [
    "final_ma.to_csv(\"/Users/kmbrgandhi/Documents/Housing/Property_Assessments/propertyassessments/intermediate/checkthis.csv\")"
   ]
  },
  {
   "cell_type": "code",
   "execution_count": null,
   "metadata": {},
   "outputs": [],
   "source": []
  }
 ],
 "metadata": {
  "kernelspec": {
   "display_name": "Environment (conda_propertyassessment)",
   "language": "python",
   "name": "conda_propertyassessment"
  },
  "language_info": {
   "codemirror_mode": {
    "name": "ipython",
    "version": 3
   },
   "file_extension": ".py",
   "mimetype": "text/x-python",
   "name": "python",
   "nbconvert_exporter": "python",
   "pygments_lexer": "ipython3",
   "version": "3.8.3"
  }
 },
 "nbformat": 4,
 "nbformat_minor": 4
}

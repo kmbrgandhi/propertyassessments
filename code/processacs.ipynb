{
 "cells": [
  {
   "cell_type": "code",
   "execution_count": 1,
   "metadata": {},
   "outputs": [
    {
     "data": {
      "text/plain": [
       "0"
      ]
     },
     "execution_count": 1,
     "metadata": {},
     "output_type": "execute_result"
    }
   ],
   "source": [
    "import descartes, matplotlib.pyplot as plt \n",
    "import fiona\n",
    "import geopandas as gpd\n",
    "import pandas as pd\n",
    "import censusdata\n",
    "import gc\n",
    "gc.collect()"
   ]
  },
  {
   "cell_type": "code",
   "execution_count": 2,
   "metadata": {},
   "outputs": [],
   "source": [
    "fp = \"/Users/kmbrgandhi/Documents/Housing/Property_Assessments/propertyassessments/ACS2018/tl_2018_25_bg/tl_2018_25_bg.shp\""
   ]
  },
  {
   "cell_type": "code",
   "execution_count": 3,
   "metadata": {},
   "outputs": [],
   "source": [
    "acs2018sf = gpd.read_file(fp)"
   ]
  },
  {
   "cell_type": "code",
   "execution_count": 4,
   "metadata": {},
   "outputs": [
    {
     "data": {
      "text/plain": [
       "4985"
      ]
     },
     "execution_count": 4,
     "metadata": {},
     "output_type": "execute_result"
    }
   ],
   "source": [
    "len(acs2018sf)"
   ]
  },
  {
   "cell_type": "code",
   "execution_count": 5,
   "metadata": {},
   "outputs": [
    {
     "name": "stdout",
     "output_type": "stream",
     "text": [
      "Variable     | Table                          | Label                                                    | Type \n",
      "-------------------------------------------------------------------------------------------------------------------\n",
      "B19013_001E  | MEDIAN HOUSEHOLD INCOME IN THE | !! Estimate Median household income in the past 12 month | int  \n",
      "-------------------------------------------------------------------------------------------------------------------\n"
     ]
    }
   ],
   "source": [
    "censusdata.printtable(censusdata.censustable('acs5', 2018, 'B19013'))"
   ]
  },
  {
   "cell_type": "code",
   "execution_count": 6,
   "metadata": {},
   "outputs": [],
   "source": [
    "counties = censusdata.geographies(censusdata.censusgeo([('state', '25'), ('county', '*')]), 'acs5', 2018)"
   ]
  },
  {
   "cell_type": "code",
   "execution_count": 7,
   "metadata": {},
   "outputs": [
    {
     "data": {
      "text/plain": [
       "(('state', '25'), ('county', '025'))"
      ]
     },
     "execution_count": 7,
     "metadata": {},
     "output_type": "execute_result"
    }
   ],
   "source": [
    "counties['Suffolk County, Massachusetts'].geo"
   ]
  },
  {
   "cell_type": "code",
   "execution_count": 8,
   "metadata": {},
   "outputs": [],
   "source": [
    "list_of_counties = []\n",
    "county_data = {}\n",
    "for county in counties:\n",
    "    county_name = county[:-15]\n",
    "    county_val = counties[county]\n",
    "    county_number = county_val.geo[1][1]\n",
    "    county_data[county_name] = censusdata.download('acs5', 2018,\n",
    "                             censusdata.censusgeo([('state', '25'), ('county', county_number), ('block group', '*')]),\n",
    "                             ['B02001_001E', 'B02001_003E', \"B03003_001E\", \"B03003_003E\", \"B25003_002E\", \"B25003_003E\", \\\n",
    "                             'B15003_002E', 'B15003_003E', 'B15003_004E', 'B15003_005E', 'B15003_006E', 'B15003_007E', \\\n",
    "                             'B15003_008E', 'B15003_009E', 'B15003_010E', 'B15003_011E', 'B15003_012E', 'B15003_013E', \\\n",
    "                             'B15003_014E', 'B15003_015E', 'B15003_016E', 'B15003_017E','B15003_018E', 'B15003_019E',\\\n",
    "                              'B15003_020E', 'B15003_021E', 'B15003_022E', 'B15003_023E','B15003_024E', 'B15003_025E'])\n",
    "    # grabbing the Massachusetts data we want for each county\n",
    "#B02001 is the race table: pulling black and total to form ratio\n",
    "#B03001 is the hispanic table: pulling hispanic and total to form ratio\n",
    "#B19013 is overall median income, Note that I could get black and white specific median incomes from B19013A and B\n",
    "#B25118 is # of owner and renter occupied\n",
    "#B15003 is all the education variables, going to be aggreagted later"
   ]
  },
  {
   "cell_type": "code",
   "execution_count": 9,
   "metadata": {},
   "outputs": [],
   "source": [
    "lst_of_data = []\n",
    "total = 0\n",
    "for county in county_data:\n",
    "    county_data[county][\"county\"] = county\n",
    "    lst_of_data.append(county_data[county])\n",
    "    total+=len(county_data[county])\n",
    "\n",
    "final_ma = pd.concat(lst_of_data, axis=0)"
   ]
  },
  {
   "cell_type": "code",
   "execution_count": 10,
   "metadata": {},
   "outputs": [],
   "source": [
    "# clean educational attainment\n",
    "final_ma['hs'] = final_ma[['B15003_002E', 'B15003_003E', 'B15003_004E', 'B15003_005E', 'B15003_006E', 'B15003_007E', \\\n",
    "                             'B15003_008E', 'B15003_009E', 'B15003_010E', 'B15003_011E', 'B15003_012E', 'B15003_013E', \\\n",
    "                             'B15003_014E', 'B15003_015E', 'B15003_016E', 'B15003_017E', 'B15003_018E']].sum(axis=1)\n",
    "final_ma['somecollege'] = final_ma[['B15003_019E', 'B15003_020E', 'B15003_021E']].sum(axis=1)\n",
    "final_ma['bach'] = final_ma[['B15003_022E', 'B15003_023E', 'B15003_024E', 'B15003_025E']].sum(axis=1)"
   ]
  },
  {
   "cell_type": "code",
   "execution_count": 11,
   "metadata": {},
   "outputs": [],
   "source": [
    "# drop and rename\n",
    "final_ma = final_ma.drop(columns=['B15003_002E', 'B15003_003E', 'B15003_004E', 'B15003_005E', 'B15003_006E', 'B15003_007E', \\\n",
    "                             'B15003_008E', 'B15003_009E', 'B15003_010E', 'B15003_011E', 'B15003_012E', 'B15003_013E', \\\n",
    "                             'B15003_014E', 'B15003_015E', 'B15003_016E', 'B15003_017E','B15003_018E', 'B15003_019E',\\\n",
    "                              'B15003_020E', 'B15003_021E', 'B15003_022E', 'B15003_023E','B15003_024E', 'B15003_025E'])\n",
    "final_ma = final_ma.rename(columns={'B02001_001E': \"total\",'B02001_003E': \"black\", 'B03003_001E': \"total2\", 'B03003_003E': \"hispanic\",\n",
    " 'B25003_002E': \"owner occupied\",'B25003_003E': \"renter occupied\"})\n",
    "assert final_ma[\"total\"].equals(final_ma[\"total2\"])\n",
    "final_ma = final_ma.drop(columns=[\"total2\"])"
   ]
  },
  {
   "cell_type": "code",
   "execution_count": 12,
   "metadata": {},
   "outputs": [],
   "source": [
    "final_ma = final_ma.reset_index()"
   ]
  },
  {
   "cell_type": "code",
   "execution_count": 13,
   "metadata": {},
   "outputs": [],
   "source": [
    "def get_value(geo, index):\n",
    "    return geo.geo[index][1]\n",
    "\n",
    "final_ma[\"STATEFP\"] = final_ma[\"index\"].apply(get_value, args=(0,))\n",
    "final_ma[\"COUNTYFP\"] = final_ma[\"index\"].apply(get_value, args=(1,))\n",
    "final_ma[\"TRACTCE\"] = final_ma[\"index\"].apply(get_value, args=(2,))\n",
    "final_ma[\"BLKGRPCE\"] =final_ma[\"index\"].apply(get_value, args=(3,))\n",
    "final_ma[\"GEOID\"] = final_ma[\"STATEFP\"] + final_ma[\"COUNTYFP\"] + final_ma[\"TRACTCE\"] + final_ma[\"BLKGRPCE\"]\n",
    "final_ma = final_ma.drop(columns=[\"index\"])"
   ]
  },
  {
   "cell_type": "code",
   "execution_count": 14,
   "metadata": {},
   "outputs": [],
   "source": [
    "merged_acs = acs2018sf.merge(final_ma, on=\"GEOID\", how =\"inner\")"
   ]
  },
  {
   "cell_type": "code",
   "execution_count": 18,
   "metadata": {},
   "outputs": [],
   "source": [
    "merged_acs.to_file(\"../cleaned/acs2018demographics.shp\")"
   ]
  },
  {
   "cell_type": "code",
   "execution_count": null,
   "metadata": {},
   "outputs": [],
   "source": []
  }
 ],
 "metadata": {
  "kernelspec": {
   "display_name": "Environment (conda_propertyassessment)",
   "language": "python",
   "name": "conda_propertyassessment"
  },
  "language_info": {
   "codemirror_mode": {
    "name": "ipython",
    "version": 3
   },
   "file_extension": ".py",
   "mimetype": "text/x-python",
   "name": "python",
   "nbconvert_exporter": "python",
   "pygments_lexer": "ipython3",
   "version": "3.8.3"
  }
 },
 "nbformat": 4,
 "nbformat_minor": 4
}

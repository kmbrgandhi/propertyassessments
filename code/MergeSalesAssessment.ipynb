{
 "cells": [
  {
   "cell_type": "code",
   "execution_count": 7,
   "metadata": {},
   "outputs": [],
   "source": [
    "import descartes, matplotlib.pyplot as plt \n",
    "import pandas as pd\n",
    "import censusdata\n",
    "import string"
   ]
  },
  {
   "cell_type": "code",
   "execution_count": 2,
   "metadata": {},
   "outputs": [],
   "source": [
    "# NOTE: determined fps data has misaligned rows.  Working to fix!\n",
    "#fpsgeo = [\"../AssessingParcels\"+str(i) +\"/ASSESSING_ParcelsFY\"+str(i)+\".shp\" for i in range(2016, 2021)]\n",
    "\n",
    "fpsdata = [\"../AssessingParcels\"+str(i) +\"/ASSESSING_PropertyDatabase_FY\"+str(i)+\".csv\" for i in range(2016, 2021)]\n",
    "#parcels = [gpd.read_file(fpsgeo[i]) for i in range(5)]\n",
    "dtypes = {\"PID\": 'int32', \"GISID\": 'object', 'BldgNum': 'Int8', 'Address': 'object',\\\n",
    "                                               \"Unit\": 'object', 'StateClassCode': 'Int16', 'PropertyClass': 'object', \\\n",
    "                                               'Zoning': 'object', 'MapLot': 'object', 'LandArea': 'object', 'Year': 'Int16',\\\n",
    "                                               'TaxDistrict': 'object', 'ResidentialExemption': 'object', 'Building': 'Int32',\\\n",
    "                                               'LandValue': 'Int32', 'AssessedValue': 'Int32', 'SalePrice': 'Int32',\\\n",
    "                                               'BookPage': 'object', 'SaleDate': 'datetime64', 'PreviousAssessedValue':'Int32',\\\n",
    "                                               'PropertyTaxAmount':'Int32','Owner_Name': 'object', 'Owner_CoOwnerName': 'object',\\\n",
    "                                               'Owner_Address': 'object', 'Owner_Address2': 'object', 'Owner_City': 'object',\\\n",
    "                                               'Owner_State': 'object', 'Owner_Zip':'object', 'Exterior_Style': 'object',\\\n",
    "                                               'Exterior_Occupancy': 'object', 'Exterior_NumStories': 'float16', \\\n",
    "                                               'Exterior_WallType': 'object', 'Exterior_WallHeight': 'float16', \\\n",
    "                                               'Exterior_RoofType': 'object', 'Exterior_RoofMaterial': 'object', \\\n",
    "                                               'Exterior_FloorLocation': 'Int8', 'Exterior_View': 'object', \\\n",
    "                                               'Interior_LivingArea': 'Int32', 'Interior_NumUnits': 'Int8', \\\n",
    "                                               'Interior_TotalRooms': 'Int8', 'Interior_Bedrooms': 'Int8', \\\n",
    "                                               'Interior_Kitchens': 'object', 'Interior_FullBaths': 'Int8', 'Interior_HalfBaths': 'Int8',\\\n",
    "                                               'Interior_Fireplaces': 'Int8', 'Interior_Flooring': 'object', 'Interior_Layout': 'object',\\\n",
    "                                               'Interior_LaundryInUnit':'Int8', 'Systems_HeatType': 'object', 'Systems_HeatFuel': 'object',\\\n",
    "                                               'Systems_CentralAir': 'Int8', 'Systems_Plumbing': 'object', 'Condition_YearBuilt': 'Int16',\\\n",
    "                                               'Condition_InteriorCondition': 'object', 'Condition_OverallCondition': 'object',\\\n",
    "                                               'Condition_OverallGrade': 'object', 'Parking_Open': 'Int8', 'Parking_Covered':'Int8',\\\n",
    "                                               'Parking_Garage': 'Int8', 'UnfinishedBasementGross':'Int16', \\\n",
    "                                                'FinishedBasementGross':'Int16'}"
   ]
  },
  {
   "cell_type": "code",
   "execution_count": null,
   "metadata": {},
   "outputs": [],
   "source": [
    "fpsdata = [\"../AssessingParcels\"+str(i) +\"/ASSESSING_PropertyDatabase_FY\"+str(i)+\".csv\" for i in range(2016, 2021)]\n",
    "x = pd.read_csv(fpsdata[0], low_memory=False)"
   ]
  },
  {
   "cell_type": "code",
   "execution_count": null,
   "metadata": {},
   "outputs": [],
   "source": [
    "x.columns"
   ]
  },
  {
   "cell_type": "code",
   "execution_count": null,
   "metadata": {},
   "outputs": [],
   "source": [
    "x['asv'] = x['SalePrice']/x['AssessedValue']"
   ]
  },
  {
   "cell_type": "code",
   "execution_count": null,
   "metadata": {},
   "outputs": [],
   "source": [
    "to_look_at = x[x[\"PropertyClass\"]==\"SNGL-FAM-RES\"]"
   ]
  },
  {
   "cell_type": "code",
   "execution_count": null,
   "metadata": {},
   "outputs": [],
   "source": [
    "not_null = to_look_at[to_look_at[\"SalePrice\"].notnull()][to_look_at[\"AssessedValue\"].notnull()]"
   ]
  },
  {
   "cell_type": "code",
   "execution_count": null,
   "metadata": {},
   "outputs": [],
   "source": [
    "not_null[\"asv\"] = not_null[\"SalePrice\"]/not_null[\"AssessedValue\"]"
   ]
  },
  {
   "cell_type": "code",
   "execution_count": null,
   "metadata": {},
   "outputs": [],
   "source": [
    "filter_out_low_values = not_null[not_null[\"asv\"]>0.05]"
   ]
  },
  {
   "cell_type": "code",
   "execution_count": null,
   "metadata": {},
   "outputs": [],
   "source": [
    "filter_out_low_values[\"asv\"].describe()"
   ]
  },
  {
   "cell_type": "code",
   "execution_count": 59,
   "metadata": {},
   "outputs": [],
   "source": [
    "parcel_data = [pd.read_csv(fpsdata[i]) for i in range(0, 5)]\n",
    "firstyear_parcels = parcel_data[4]\n",
    "sale_data = pd.read_csv(\"../RawSales/LA3ParcelSearch.csv\")\n",
    "sale_data['Parcel Id'] = sale_data['Parcel Id'].str.replace('_','-')\n",
    "sale_data['Parcel Id'] = sale_data['Parcel Id'].str.replace('--','-')\n",
    "sale_data['Parcel Id'] = sale_data['Parcel Id'].str.replace('--','-')\n",
    "sale_data['Parcel Id'] = sale_data['Parcel Id'].str.strip(string.punctuation)\n",
    "merged_sales_assessments = sale_data.merge(firstyear_parcels, left_on='Parcel Id', right_on='MapLot', how=\"outer\", indicator = True)"
   ]
  },
  {
   "cell_type": "code",
   "execution_count": 60,
   "metadata": {},
   "outputs": [
    {
     "data": {
      "text/plain": [
       "right_only    19769\n",
       "both          14359\n",
       "left_only       887\n",
       "Name: _merge, dtype: int64"
      ]
     },
     "execution_count": 60,
     "metadata": {},
     "output_type": "execute_result"
    }
   ],
   "source": [
    "merged_sales_assessments['_merge'].value_counts()"
   ]
  },
  {
   "cell_type": "code",
   "execution_count": 61,
   "metadata": {
    "scrolled": true
   },
   "outputs": [
    {
     "data": {
      "text/plain": [
       "<bound method NDFrame.head of       City/ Town  Fiscal Year Process   Sale Date      Parcel Id  \\\n",
       "51     Cambridge       2005.0       C  01/15/2003      122-166-2   \n",
       "296    Cambridge       2005.0       C  04/14/2003      11-43-PH3   \n",
       "297    Cambridge       2008.0       C  09/29/2006      11-43-PH3   \n",
       "298    Cambridge       2008.0       E  09/29/2006      11-43-PH3   \n",
       "1036   Cambridge       2005.0       C  08/07/2003         271-47   \n",
       "...          ...          ...     ...         ...            ...   \n",
       "13654  Cambridge       2017.0       C  10/06/2015         24-130   \n",
       "13807  Cambridge       2018.0       I  03/04/2016        19-28-1   \n",
       "13895  Cambridge       2018.0       I  05/17/2016       242A-132   \n",
       "14279  Cambridge       2018.0       I  12/09/2016        127-171   \n",
       "14972  Cambridge       2020.0       I  07/12/2018  101-147-411/1   \n",
       "\n",
       "                                         Seller  \\\n",
       "51                            LIVE, THEODORE R.   \n",
       "296                     PASCAVAGE, MICHAEL H. &   \n",
       "297                            SAKDATORN, DARIN   \n",
       "298                            SAKDATORN, DARIN   \n",
       "1036                         REISHUS, SHARON M.   \n",
       "...                                         ...   \n",
       "13654                     68 OTIS STREET , LLC,   \n",
       "13807  PIRIE, MICHAEL ANDREW, CHRISTOPHER PIRIE   \n",
       "13895                   PECHET, MAURICE M., TR.   \n",
       "14279                            FRYMIRE, ROGER   \n",
       "14972                          CARVER, MARGARET   \n",
       "\n",
       "                                       Buyer  St Num St Alpha        St Name  \\\n",
       "51                          DAY, JENNIFER P.    73.0      NaN      HOWARD ST   \n",
       "296                         SAKDATORN, DARIN    10.0      NaN      ROGERS ST   \n",
       "297    NICHOLS, MURIEL I. & SCOTT G. NICHOLS    10.0      NaN      ROGERS ST   \n",
       "298    NICHOLS, MURIEL I. & SCOTT G. NICHOLS    10.0      NaN      ROGERS ST   \n",
       "1036          WHITE, GEORGE R. & KAREN A. ST     9.0      NaN     BELLIS CIR   \n",
       "...                                      ...     ...      ...            ...   \n",
       "13654                       MASS ARC 1, LLC,    68.0      NaN        OTIS ST   \n",
       "13807                      TEAL, JOHN M., JR   156.0      NaN       THIRD ST   \n",
       "13895             RIVERRUN 177 COOLIDGE LLC.   177.0      NaN  COOLIDGE HILL   \n",
       "14279        FAIRMONT AVENURE PROPERTIES LLC    22.0      NaN   FAIRMONT AVE   \n",
       "14972                  COPELAND, LARRY JAMES   411.0      NaN     PUTNAM AVE   \n",
       "\n",
       "       ...  Condition_YearBuilt  Condition_InteriorCondition  \\\n",
       "51     ...                  NaN                          NaN   \n",
       "296    ...                  NaN                          NaN   \n",
       "297    ...                  NaN                          NaN   \n",
       "298    ...                  NaN                          NaN   \n",
       "1036   ...                  NaN                          NaN   \n",
       "...    ...                  ...                          ...   \n",
       "13654  ...                  NaN                          NaN   \n",
       "13807  ...                  NaN                          NaN   \n",
       "13895  ...                  NaN                          NaN   \n",
       "14279  ...                  NaN                          NaN   \n",
       "14972  ...                  NaN                          NaN   \n",
       "\n",
       "      Condition_OverallCondition Condition_OverallGrade Parking_Open  \\\n",
       "51                           NaN                    NaN          NaN   \n",
       "296                          NaN                    NaN          NaN   \n",
       "297                          NaN                    NaN          NaN   \n",
       "298                          NaN                    NaN          NaN   \n",
       "1036                         NaN                    NaN          NaN   \n",
       "...                          ...                    ...          ...   \n",
       "13654                        NaN                    NaN          NaN   \n",
       "13807                        NaN                    NaN          NaN   \n",
       "13895                        NaN                    NaN          NaN   \n",
       "14279                        NaN                    NaN          NaN   \n",
       "14972                        NaN                    NaN          NaN   \n",
       "\n",
       "       Parking_Covered Parking_Garage  UnfinishedBasementGross  \\\n",
       "51                 NaN            NaN                      NaN   \n",
       "296                NaN            NaN                      NaN   \n",
       "297                NaN            NaN                      NaN   \n",
       "298                NaN            NaN                      NaN   \n",
       "1036               NaN            NaN                      NaN   \n",
       "...                ...            ...                      ...   \n",
       "13654              NaN            NaN                      NaN   \n",
       "13807              NaN            NaN                      NaN   \n",
       "13895              NaN            NaN                      NaN   \n",
       "14279              NaN            NaN                      NaN   \n",
       "14972              NaN            NaN                      NaN   \n",
       "\n",
       "      FinishedBasementGross     _merge  \n",
       "51                      NaN  left_only  \n",
       "296                     NaN  left_only  \n",
       "297                     NaN  left_only  \n",
       "298                     NaN  left_only  \n",
       "1036                    NaN  left_only  \n",
       "...                     ...        ...  \n",
       "13654                   NaN  left_only  \n",
       "13807                   NaN  left_only  \n",
       "13895                   NaN  left_only  \n",
       "14279                   NaN  left_only  \n",
       "14972                   NaN  left_only  \n",
       "\n",
       "[887 rows x 79 columns]>"
      ]
     },
     "execution_count": 61,
     "metadata": {},
     "output_type": "execute_result"
    }
   ],
   "source": [
    "merged_sales_assessments[merged_sales_assessments['_merge']==\"left_only\"].head"
   ]
  }
 ],
 "metadata": {
  "kernelspec": {
   "display_name": "Environment (conda_propertyassessment)",
   "language": "python",
   "name": "conda_propertyassessment"
  },
  "language_info": {
   "codemirror_mode": {
    "name": "ipython",
    "version": 3
   },
   "file_extension": ".py",
   "mimetype": "text/x-python",
   "name": "python",
   "nbconvert_exporter": "python",
   "pygments_lexer": "ipython3",
   "version": "3.8.3"
  }
 },
 "nbformat": 4,
 "nbformat_minor": 4
}

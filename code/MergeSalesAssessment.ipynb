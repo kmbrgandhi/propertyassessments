{
 "cells": [
  {
   "cell_type": "code",
   "execution_count": null,
   "metadata": {},
   "outputs": [],
   "source": [
    "import descartes, matplotlib.pyplot as plt \n",
    "import fiona\n",
    "import geopandas as gpd\n",
    "import pandas as pd\n",
    "import censusdata\n",
    "import gc\n",
    "gc.collect()"
   ]
  },
  {
   "cell_type": "code",
   "execution_count": null,
   "metadata": {},
   "outputs": [],
   "source": [
    "# NOTE: determined fps data has misaligned rows.  Working to fix!\n",
    "fpsgeo = [\"/Users/kmbrgandhi/Documents/Housing/Property_Assessments/propertyassessments/AssessingParcels\"+str(i) +\"/ASSESSING_ParcelsFY\"+str(i)+\".shp\" for i in range(2016, 2021)]\n",
    "fpsdata = [\"/Users/kmbrgandhi/Documents/Housing/Property_Assessments/propertyassessments/AssessingParcels\"+str(i) +\"/ASSESSING_PropertyDatabase_FY\"+str(i)+\".csv\" for i in range(2016, 2021)]\n",
    "parcels = [gpd.read_file(fpsgeo[i]) for i in range(5)]\n",
    "dtypes = {\"PID\": 'int32', \"GISID\": 'object', 'BldgNum': 'Int8', 'Address': 'object',\\\n",
    "                                               \"Unit\": 'object', 'StateClassCode': 'Int16', 'PropertyClass': 'object', \\\n",
    "                                               'Zoning': 'object', 'MapLot': 'object', 'LandArea': 'object', 'Year': 'Int16',\\\n",
    "                                               'TaxDistrict': 'object', 'ResidentialExemption': 'object', 'Building': 'Int32',\\\n",
    "                                               'LandValue': 'Int32', 'AssessedValue': 'Int32', 'SalePrice': 'Int32',\\\n",
    "                                               'BookPage': 'object', 'SaleDate': 'datetime64', 'PreviousAssessedValue':'Int32',\\\n",
    "                                               'PropertyTaxAmount':'Int32','Owner_Name': 'object', 'Owner_CoOwnerName': 'object',\\\n",
    "                                               'Owner_Address': 'object', 'Owner_Address2': 'object', 'Owner_City': 'object',\\\n",
    "                                               'Owner_State': 'object', 'Owner_Zip':'object', 'Exterior_Style': 'object',\\\n",
    "                                               'Exterior_Occupancy': 'object', 'Exterior_NumStories': 'float16', \\\n",
    "                                               'Exterior_WallType': 'object', 'Exterior_WallHeight': 'float16', \\\n",
    "                                               'Exterior_RoofType': 'object', 'Exterior_RoofMaterial': 'object', \\\n",
    "                                               'Exterior_FloorLocation': 'Int8', 'Exterior_View': 'object', \\\n",
    "                                               'Interior_LivingArea': 'Int32', 'Interior_NumUnits': 'Int8', \\\n",
    "                                               'Interior_TotalRooms': 'Int8', 'Interior_Bedrooms': 'Int8', \\\n",
    "                                               'Interior_Kitchens': 'object', 'Interior_FullBaths': 'Int8', 'Interior_HalfBaths': 'Int8',\\\n",
    "                                               'Interior_Fireplaces': 'Int8', 'Interior_Flooring': 'object', 'Interior_Layout': 'object',\\\n",
    "                                               'Interior_LaundryInUnit':'Int8', 'Systems_HeatType': 'object', 'Systems_HeatFuel': 'object',\\\n",
    "                                               'Systems_CentralAir': 'Int8', 'Systems_Plumbing': 'object', 'Condition_YearBuilt': 'Int16',\\\n",
    "                                               'Condition_InteriorCondition': 'object', 'Condition_OverallCondition': 'object',\\\n",
    "                                               'Condition_OverallGrade': 'object', 'Parking_Open': 'Int8', 'Parking_Covered':'Int8',\\\n",
    "                                               'Parking_Garage': 'Int8', 'UnfinishedBasementGross':'Int16', \\\n",
    "                                                'FinishedBasementGross':'Int16'}\n",
    "parcel_data = [pd.read_csv(fpsdata[i], dtype = dtypes) for i in range(1)]\n",
    "#Land Area: probably not a good regressor because it's missing"
   ]
  },
  {
   "cell_type": "code",
   "execution_count": null,
   "metadata": {},
   "outputs": [],
   "source": [
    "fpsdata = [\"/Users/kmbrgandhi/Documents/Housing/Property_Assessments/propertyassessments/AssessingParcels\"+str(i) +\"/ASSESSING_PropertyDatabase_FY\"+str(i)+\".csv\" for i in range(2017, 2021)]\n",
    "x = pd.read_csv(fpsdata[0])"
   ]
  },
  {
   "cell_type": "code",
   "execution_count": null,
   "metadata": {},
   "outputs": [],
   "source": [
    "x.info()"
   ]
  },
  {
   "cell_type": "code",
   "execution_count": null,
   "metadata": {},
   "outputs": [],
   "source": []
  }
 ],
 "metadata": {
  "kernelspec": {
   "display_name": "Environment (conda_propertyassessment)",
   "language": "python",
   "name": "conda_propertyassessment"
  },
  "language_info": {
   "codemirror_mode": {
    "name": "ipython",
    "version": 3
   },
   "file_extension": ".py",
   "mimetype": "text/x-python",
   "name": "python",
   "nbconvert_exporter": "python",
   "pygments_lexer": "ipython3",
   "version": "3.8.3"
  }
 },
 "nbformat": 4,
 "nbformat_minor": 4
}

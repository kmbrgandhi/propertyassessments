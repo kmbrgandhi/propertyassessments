{
 "cells": [
  {
   "cell_type": "code",
   "execution_count": 3,
   "metadata": {},
   "outputs": [],
   "source": [
    "import descartes, matplotlib.pyplot as plt \n",
    "import pandas as pd\n",
    "import censusdata"
   ]
  },
  {
   "cell_type": "code",
   "execution_count": 10,
   "metadata": {},
   "outputs": [
    {
     "ename": "TypeError",
     "evalue": "the dtype datetime64 is not supported for parsing, pass this column using parse_dates instead",
     "output_type": "error",
     "traceback": [
      "\u001b[0;31m---------------------------------------------------------------------------\u001b[0m",
      "\u001b[0;31mTypeError\u001b[0m                                 Traceback (most recent call last)",
      "\u001b[0;32m<ipython-input-10-4340c7d94ac4>\u001b[0m in \u001b[0;36m<module>\u001b[0;34m\u001b[0m\n\u001b[1;32m     27\u001b[0m                                                \u001b[0;34m'Parking_Garage'\u001b[0m\u001b[0;34m:\u001b[0m \u001b[0;34m'Int8'\u001b[0m\u001b[0;34m,\u001b[0m \u001b[0;34m'UnfinishedBasementGross'\u001b[0m\u001b[0;34m:\u001b[0m\u001b[0;34m'Int16'\u001b[0m\u001b[0;34m,\u001b[0m\u001b[0;31m \u001b[0m\u001b[0;31m\\\u001b[0m\u001b[0;34m\u001b[0m\u001b[0;34m\u001b[0m\u001b[0m\n\u001b[1;32m     28\u001b[0m                                                 'FinishedBasementGross':'Int16'}\n\u001b[0;32m---> 29\u001b[0;31m \u001b[0mparcel_data\u001b[0m \u001b[0;34m=\u001b[0m \u001b[0;34m[\u001b[0m\u001b[0mpd\u001b[0m\u001b[0;34m.\u001b[0m\u001b[0mread_csv\u001b[0m\u001b[0;34m(\u001b[0m\u001b[0mfpsdata\u001b[0m\u001b[0;34m[\u001b[0m\u001b[0mi\u001b[0m\u001b[0;34m]\u001b[0m\u001b[0;34m,\u001b[0m \u001b[0mdtype\u001b[0m \u001b[0;34m=\u001b[0m \u001b[0mdtypes\u001b[0m\u001b[0;34m)\u001b[0m \u001b[0;32mfor\u001b[0m \u001b[0mi\u001b[0m \u001b[0;32min\u001b[0m \u001b[0mrange\u001b[0m\u001b[0;34m(\u001b[0m\u001b[0;36m1\u001b[0m\u001b[0;34m)\u001b[0m\u001b[0;34m]\u001b[0m\u001b[0;34m\u001b[0m\u001b[0;34m\u001b[0m\u001b[0m\n\u001b[0m\u001b[1;32m     30\u001b[0m \u001b[0;31m#Land Area: probably not a good regressor because it's missing\u001b[0m\u001b[0;34m\u001b[0m\u001b[0;34m\u001b[0m\u001b[0;34m\u001b[0m\u001b[0m\n",
      "\u001b[0;32m<ipython-input-10-4340c7d94ac4>\u001b[0m in \u001b[0;36m<listcomp>\u001b[0;34m(.0)\u001b[0m\n\u001b[1;32m     27\u001b[0m                                                \u001b[0;34m'Parking_Garage'\u001b[0m\u001b[0;34m:\u001b[0m \u001b[0;34m'Int8'\u001b[0m\u001b[0;34m,\u001b[0m \u001b[0;34m'UnfinishedBasementGross'\u001b[0m\u001b[0;34m:\u001b[0m\u001b[0;34m'Int16'\u001b[0m\u001b[0;34m,\u001b[0m\u001b[0;31m \u001b[0m\u001b[0;31m\\\u001b[0m\u001b[0;34m\u001b[0m\u001b[0;34m\u001b[0m\u001b[0m\n\u001b[1;32m     28\u001b[0m                                                 'FinishedBasementGross':'Int16'}\n\u001b[0;32m---> 29\u001b[0;31m \u001b[0mparcel_data\u001b[0m \u001b[0;34m=\u001b[0m \u001b[0;34m[\u001b[0m\u001b[0mpd\u001b[0m\u001b[0;34m.\u001b[0m\u001b[0mread_csv\u001b[0m\u001b[0;34m(\u001b[0m\u001b[0mfpsdata\u001b[0m\u001b[0;34m[\u001b[0m\u001b[0mi\u001b[0m\u001b[0;34m]\u001b[0m\u001b[0;34m,\u001b[0m \u001b[0mdtype\u001b[0m \u001b[0;34m=\u001b[0m \u001b[0mdtypes\u001b[0m\u001b[0;34m)\u001b[0m \u001b[0;32mfor\u001b[0m \u001b[0mi\u001b[0m \u001b[0;32min\u001b[0m \u001b[0mrange\u001b[0m\u001b[0;34m(\u001b[0m\u001b[0;36m1\u001b[0m\u001b[0;34m)\u001b[0m\u001b[0;34m]\u001b[0m\u001b[0;34m\u001b[0m\u001b[0;34m\u001b[0m\u001b[0m\n\u001b[0m\u001b[1;32m     30\u001b[0m \u001b[0;31m#Land Area: probably not a good regressor because it's missing\u001b[0m\u001b[0;34m\u001b[0m\u001b[0;34m\u001b[0m\u001b[0;34m\u001b[0m\u001b[0m\n",
      "\u001b[0;32m~/anaconda3/envs/propertyassessment/lib/python3.8/site-packages/pandas/io/parsers.py\u001b[0m in \u001b[0;36mparser_f\u001b[0;34m(filepath_or_buffer, sep, delimiter, header, names, index_col, usecols, squeeze, prefix, mangle_dupe_cols, dtype, engine, converters, true_values, false_values, skipinitialspace, skiprows, skipfooter, nrows, na_values, keep_default_na, na_filter, verbose, skip_blank_lines, parse_dates, infer_datetime_format, keep_date_col, date_parser, dayfirst, cache_dates, iterator, chunksize, compression, thousands, decimal, lineterminator, quotechar, quoting, doublequote, escapechar, comment, encoding, dialect, error_bad_lines, warn_bad_lines, delim_whitespace, low_memory, memory_map, float_precision)\u001b[0m\n\u001b[1;32m    674\u001b[0m         )\n\u001b[1;32m    675\u001b[0m \u001b[0;34m\u001b[0m\u001b[0m\n\u001b[0;32m--> 676\u001b[0;31m         \u001b[0;32mreturn\u001b[0m \u001b[0m_read\u001b[0m\u001b[0;34m(\u001b[0m\u001b[0mfilepath_or_buffer\u001b[0m\u001b[0;34m,\u001b[0m \u001b[0mkwds\u001b[0m\u001b[0;34m)\u001b[0m\u001b[0;34m\u001b[0m\u001b[0;34m\u001b[0m\u001b[0m\n\u001b[0m\u001b[1;32m    677\u001b[0m \u001b[0;34m\u001b[0m\u001b[0m\n\u001b[1;32m    678\u001b[0m     \u001b[0mparser_f\u001b[0m\u001b[0;34m.\u001b[0m\u001b[0m__name__\u001b[0m \u001b[0;34m=\u001b[0m \u001b[0mname\u001b[0m\u001b[0;34m\u001b[0m\u001b[0;34m\u001b[0m\u001b[0m\n",
      "\u001b[0;32m~/anaconda3/envs/propertyassessment/lib/python3.8/site-packages/pandas/io/parsers.py\u001b[0m in \u001b[0;36m_read\u001b[0;34m(filepath_or_buffer, kwds)\u001b[0m\n\u001b[1;32m    452\u001b[0m \u001b[0;34m\u001b[0m\u001b[0m\n\u001b[1;32m    453\u001b[0m     \u001b[0;32mtry\u001b[0m\u001b[0;34m:\u001b[0m\u001b[0;34m\u001b[0m\u001b[0;34m\u001b[0m\u001b[0m\n\u001b[0;32m--> 454\u001b[0;31m         \u001b[0mdata\u001b[0m \u001b[0;34m=\u001b[0m \u001b[0mparser\u001b[0m\u001b[0;34m.\u001b[0m\u001b[0mread\u001b[0m\u001b[0;34m(\u001b[0m\u001b[0mnrows\u001b[0m\u001b[0;34m)\u001b[0m\u001b[0;34m\u001b[0m\u001b[0;34m\u001b[0m\u001b[0m\n\u001b[0m\u001b[1;32m    455\u001b[0m     \u001b[0;32mfinally\u001b[0m\u001b[0;34m:\u001b[0m\u001b[0;34m\u001b[0m\u001b[0;34m\u001b[0m\u001b[0m\n\u001b[1;32m    456\u001b[0m         \u001b[0mparser\u001b[0m\u001b[0;34m.\u001b[0m\u001b[0mclose\u001b[0m\u001b[0;34m(\u001b[0m\u001b[0;34m)\u001b[0m\u001b[0;34m\u001b[0m\u001b[0;34m\u001b[0m\u001b[0m\n",
      "\u001b[0;32m~/anaconda3/envs/propertyassessment/lib/python3.8/site-packages/pandas/io/parsers.py\u001b[0m in \u001b[0;36mread\u001b[0;34m(self, nrows)\u001b[0m\n\u001b[1;32m   1131\u001b[0m     \u001b[0;32mdef\u001b[0m \u001b[0mread\u001b[0m\u001b[0;34m(\u001b[0m\u001b[0mself\u001b[0m\u001b[0;34m,\u001b[0m \u001b[0mnrows\u001b[0m\u001b[0;34m=\u001b[0m\u001b[0;32mNone\u001b[0m\u001b[0;34m)\u001b[0m\u001b[0;34m:\u001b[0m\u001b[0;34m\u001b[0m\u001b[0;34m\u001b[0m\u001b[0m\n\u001b[1;32m   1132\u001b[0m         \u001b[0mnrows\u001b[0m \u001b[0;34m=\u001b[0m \u001b[0m_validate_integer\u001b[0m\u001b[0;34m(\u001b[0m\u001b[0;34m\"nrows\"\u001b[0m\u001b[0;34m,\u001b[0m \u001b[0mnrows\u001b[0m\u001b[0;34m)\u001b[0m\u001b[0;34m\u001b[0m\u001b[0;34m\u001b[0m\u001b[0m\n\u001b[0;32m-> 1133\u001b[0;31m         \u001b[0mret\u001b[0m \u001b[0;34m=\u001b[0m \u001b[0mself\u001b[0m\u001b[0;34m.\u001b[0m\u001b[0m_engine\u001b[0m\u001b[0;34m.\u001b[0m\u001b[0mread\u001b[0m\u001b[0;34m(\u001b[0m\u001b[0mnrows\u001b[0m\u001b[0;34m)\u001b[0m\u001b[0;34m\u001b[0m\u001b[0;34m\u001b[0m\u001b[0m\n\u001b[0m\u001b[1;32m   1134\u001b[0m \u001b[0;34m\u001b[0m\u001b[0m\n\u001b[1;32m   1135\u001b[0m         \u001b[0;31m# May alter columns / col_dict\u001b[0m\u001b[0;34m\u001b[0m\u001b[0;34m\u001b[0m\u001b[0;34m\u001b[0m\u001b[0m\n",
      "\u001b[0;32m~/anaconda3/envs/propertyassessment/lib/python3.8/site-packages/pandas/io/parsers.py\u001b[0m in \u001b[0;36mread\u001b[0;34m(self, nrows)\u001b[0m\n\u001b[1;32m   2035\u001b[0m     \u001b[0;32mdef\u001b[0m \u001b[0mread\u001b[0m\u001b[0;34m(\u001b[0m\u001b[0mself\u001b[0m\u001b[0;34m,\u001b[0m \u001b[0mnrows\u001b[0m\u001b[0;34m=\u001b[0m\u001b[0;32mNone\u001b[0m\u001b[0;34m)\u001b[0m\u001b[0;34m:\u001b[0m\u001b[0;34m\u001b[0m\u001b[0;34m\u001b[0m\u001b[0m\n\u001b[1;32m   2036\u001b[0m         \u001b[0;32mtry\u001b[0m\u001b[0;34m:\u001b[0m\u001b[0;34m\u001b[0m\u001b[0;34m\u001b[0m\u001b[0m\n\u001b[0;32m-> 2037\u001b[0;31m             \u001b[0mdata\u001b[0m \u001b[0;34m=\u001b[0m \u001b[0mself\u001b[0m\u001b[0;34m.\u001b[0m\u001b[0m_reader\u001b[0m\u001b[0;34m.\u001b[0m\u001b[0mread\u001b[0m\u001b[0;34m(\u001b[0m\u001b[0mnrows\u001b[0m\u001b[0;34m)\u001b[0m\u001b[0;34m\u001b[0m\u001b[0;34m\u001b[0m\u001b[0m\n\u001b[0m\u001b[1;32m   2038\u001b[0m         \u001b[0;32mexcept\u001b[0m \u001b[0mStopIteration\u001b[0m\u001b[0;34m:\u001b[0m\u001b[0;34m\u001b[0m\u001b[0;34m\u001b[0m\u001b[0m\n\u001b[1;32m   2039\u001b[0m             \u001b[0;32mif\u001b[0m \u001b[0mself\u001b[0m\u001b[0;34m.\u001b[0m\u001b[0m_first_chunk\u001b[0m\u001b[0;34m:\u001b[0m\u001b[0;34m\u001b[0m\u001b[0;34m\u001b[0m\u001b[0m\n",
      "\u001b[0;32mpandas/_libs/parsers.pyx\u001b[0m in \u001b[0;36mpandas._libs.parsers.TextReader.read\u001b[0;34m()\u001b[0m\n",
      "\u001b[0;32mpandas/_libs/parsers.pyx\u001b[0m in \u001b[0;36mpandas._libs.parsers.TextReader._read_low_memory\u001b[0;34m()\u001b[0m\n",
      "\u001b[0;32mpandas/_libs/parsers.pyx\u001b[0m in \u001b[0;36mpandas._libs.parsers.TextReader._read_rows\u001b[0;34m()\u001b[0m\n",
      "\u001b[0;32mpandas/_libs/parsers.pyx\u001b[0m in \u001b[0;36mpandas._libs.parsers.TextReader._convert_column_data\u001b[0;34m()\u001b[0m\n",
      "\u001b[0;32mpandas/_libs/parsers.pyx\u001b[0m in \u001b[0;36mpandas._libs.parsers.TextReader._convert_tokens\u001b[0;34m()\u001b[0m\n",
      "\u001b[0;32mpandas/_libs/parsers.pyx\u001b[0m in \u001b[0;36mpandas._libs.parsers.TextReader._convert_with_dtype\u001b[0;34m()\u001b[0m\n",
      "\u001b[0;31mTypeError\u001b[0m: the dtype datetime64 is not supported for parsing, pass this column using parse_dates instead"
     ]
    }
   ],
   "source": [
    "# NOTE: determined fps data has misaligned rows.  Working to fix!\n",
    "#fpsgeo = [\"../AssessingParcels\"+str(i) +\"/ASSESSING_ParcelsFY\"+str(i)+\".shp\" for i in range(2016, 2021)]\n",
    "\n",
    "fpsdata = [\"../AssessingParcels\"+str(i) +\"/ASSESSING_PropertyDatabase_FY\"+str(i)+\".csv\" for i in range(2016, 2021)]\n",
    "#parcels = [gpd.read_file(fpsgeo[i]) for i in range(5)]\n",
    "dtypes = {\"PID\": 'int32', \"GISID\": 'object', 'BldgNum': 'Int8', 'Address': 'object',\\\n",
    "                                               \"Unit\": 'object', 'StateClassCode': 'Int16', 'PropertyClass': 'object', \\\n",
    "                                               'Zoning': 'object', 'MapLot': 'object', 'LandArea': 'object', 'Year': 'Int16',\\\n",
    "                                               'TaxDistrict': 'object', 'ResidentialExemption': 'object', 'Building': 'Int32',\\\n",
    "                                               'LandValue': 'Int32', 'AssessedValue': 'Int32', 'SalePrice': 'Int32',\\\n",
    "                                               'BookPage': 'object', 'SaleDate': 'datetime64', 'PreviousAssessedValue':'Int32',\\\n",
    "                                               'PropertyTaxAmount':'Int32','Owner_Name': 'object', 'Owner_CoOwnerName': 'object',\\\n",
    "                                               'Owner_Address': 'object', 'Owner_Address2': 'object', 'Owner_City': 'object',\\\n",
    "                                               'Owner_State': 'object', 'Owner_Zip':'object', 'Exterior_Style': 'object',\\\n",
    "                                               'Exterior_Occupancy': 'object', 'Exterior_NumStories': 'float16', \\\n",
    "                                               'Exterior_WallType': 'object', 'Exterior_WallHeight': 'float16', \\\n",
    "                                               'Exterior_RoofType': 'object', 'Exterior_RoofMaterial': 'object', \\\n",
    "                                               'Exterior_FloorLocation': 'Int8', 'Exterior_View': 'object', \\\n",
    "                                               'Interior_LivingArea': 'Int32', 'Interior_NumUnits': 'Int8', \\\n",
    "                                               'Interior_TotalRooms': 'Int8', 'Interior_Bedrooms': 'Int8', \\\n",
    "                                               'Interior_Kitchens': 'object', 'Interior_FullBaths': 'Int8', 'Interior_HalfBaths': 'Int8',\\\n",
    "                                               'Interior_Fireplaces': 'Int8', 'Interior_Flooring': 'object', 'Interior_Layout': 'object',\\\n",
    "                                               'Interior_LaundryInUnit':'Int8', 'Systems_HeatType': 'object', 'Systems_HeatFuel': 'object',\\\n",
    "                                               'Systems_CentralAir': 'Int8', 'Systems_Plumbing': 'object', 'Condition_YearBuilt': 'Int16',\\\n",
    "                                               'Condition_InteriorCondition': 'object', 'Condition_OverallCondition': 'object',\\\n",
    "                                               'Condition_OverallGrade': 'object', 'Parking_Open': 'Int8', 'Parking_Covered':'Int8',\\\n",
    "                                               'Parking_Garage': 'Int8', 'UnfinishedBasementGross':'Int16', \\\n",
    "                                                'FinishedBasementGross':'Int16'}\n",
    "parcel_data = [pd.read_csv(fpsdata[i], dtype = dtypes) for i in range(1)]\n",
    "#Land Area: probably not a good regressor because it's missing"
   ]
  },
  {
   "cell_type": "code",
   "execution_count": 32,
   "metadata": {},
   "outputs": [],
   "source": [
    "fpsdata = [\"../AssessingParcels\"+str(i) +\"/ASSESSING_PropertyDatabase_FY\"+str(i)+\".csv\" for i in range(2016, 2021)]\n",
    "x = pd.read_csv(fpsdata[0], low_memory=False)"
   ]
  },
  {
   "cell_type": "code",
   "execution_count": 33,
   "metadata": {},
   "outputs": [
    {
     "data": {
      "text/plain": [
       "Index(['PID', 'GISID', 'BldgNum', 'Address', 'Unit', 'StateClassCode',\n",
       "       'PropertyClass', 'Zoning', 'Map/Lot', 'LandArea', 'YearOfAssessment',\n",
       "       'TaxDistrict', 'ResidentialExemption', 'BuildingValue', 'LandValue',\n",
       "       'AssessedValue', 'SalePrice', 'Book/Page', 'SaleDate',\n",
       "       'PreviousAssessedValue', 'Owner_Name', 'Owner_CoOwnerName',\n",
       "       'Owner_Address', 'Owner_Address2', 'Owner_City', 'Owner_State',\n",
       "       'Owner_Zip', 'Exterior_Style', 'Exterior_occupancy',\n",
       "       'Exterior_NumStories', 'Exterior_WallType', 'Exterior_WallHeight',\n",
       "       'Exterior_RoofType', 'Exterior_RoofMaterial', 'Exterior_FloorLocation',\n",
       "       'Exterior_View', 'Interior_LivingArea', 'Interior_NumUnits',\n",
       "       'Interior_TotalRooms', 'Interior_Bedrooms', 'Interior_Kitchens',\n",
       "       'Interior_FullBaths', 'Interior_HalfBaths', 'Interior_Fireplaces',\n",
       "       'Interior_Flooring', 'Interior_Layout', 'Interior_LaundryInUnit',\n",
       "       'Systems_HeatType', 'Systems_HeatFuel', 'Systems_CentralAir',\n",
       "       'Systems_Plumbing', 'Condition_YearBuilt',\n",
       "       'Condition_InteriorCondition', 'Condition_OverallCondition',\n",
       "       'Condition_OverallGrade', 'Parking_Open', 'Parking_Covered',\n",
       "       'Parking_Garage', 'UnfinishedBasementGross', 'FinishedBasementGross'],\n",
       "      dtype='object')"
      ]
     },
     "execution_count": 33,
     "metadata": {},
     "output_type": "execute_result"
    }
   ],
   "source": [
    "x.columns"
   ]
  },
  {
   "cell_type": "code",
   "execution_count": 34,
   "metadata": {},
   "outputs": [],
   "source": [
    "x['asv'] = x['SalePrice']/x['AssessedValue']"
   ]
  },
  {
   "cell_type": "code",
   "execution_count": 38,
   "metadata": {},
   "outputs": [],
   "source": [
    "to_look_at = x[x[\"PropertyClass\"]==\"SNGL-FAM-RES\"]"
   ]
  },
  {
   "cell_type": "code",
   "execution_count": 40,
   "metadata": {},
   "outputs": [],
   "source": [
    "not_null = to_look_at[to_look_at[\"SalePrice\"].notnull()][to_look_at[\"AssessedValue\"].notnull()]"
   ]
  },
  {
   "cell_type": "code",
   "execution_count": 41,
   "metadata": {},
   "outputs": [],
   "source": [
    "not_null[\"asv\"] = not_null[\"SalePrice\"]/not_null[\"AssessedValue\"]"
   ]
  },
  {
   "cell_type": "code",
   "execution_count": 47,
   "metadata": {},
   "outputs": [],
   "source": [
    "filter_out_low_values = not_null[not_null[\"asv\"]>0.05]"
   ]
  },
  {
   "cell_type": "code",
   "execution_count": 48,
   "metadata": {},
   "outputs": [
    {
     "data": {
      "text/plain": [
       "count    2424.000000\n",
       "mean        0.601584\n",
       "std         0.342912\n",
       "min         0.050625\n",
       "25%         0.325087\n",
       "50%         0.640320\n",
       "75%         0.838314\n",
       "max         6.993450\n",
       "Name: asv, dtype: float64"
      ]
     },
     "execution_count": 48,
     "metadata": {},
     "output_type": "execute_result"
    }
   ],
   "source": [
    "filter_out_low_values[\"asv\"].describe()"
   ]
  },
  {
   "cell_type": "code",
   "execution_count": 50,
   "metadata": {},
   "outputs": [],
   "source": [
    "parcel_data = [pd.read_csv(fpsdata[i]) for i in range(1)]"
   ]
  },
  {
   "cell_type": "code",
   "execution_count": null,
   "metadata": {},
   "outputs": [],
   "source": []
  }
 ],
 "metadata": {
  "kernelspec": {
   "display_name": "Environment (conda_propertyassessment)",
   "language": "python",
   "name": "conda_propertyassessment"
  }
 },
 "nbformat": 4,
 "nbformat_minor": 4
}
